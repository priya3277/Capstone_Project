{
 "cells": [
  {
   "cell_type": "code",
   "execution_count": 10,
   "metadata": {},
   "outputs": [
    {
     "data": {
      "text/html": [
       "<div>\n",
       "<style scoped>\n",
       "    .dataframe tbody tr th:only-of-type {\n",
       "        vertical-align: middle;\n",
       "    }\n",
       "\n",
       "    .dataframe tbody tr th {\n",
       "        vertical-align: top;\n",
       "    }\n",
       "\n",
       "    .dataframe thead th {\n",
       "        text-align: right;\n",
       "    }\n",
       "</style>\n",
       "<table border=\"1\" class=\"dataframe\">\n",
       "  <thead>\n",
       "    <tr style=\"text-align: right;\">\n",
       "      <th></th>\n",
       "      <th>Logistic Regression</th>\n",
       "      <th>SVM</th>\n",
       "      <th>Random Forest</th>\n",
       "      <th>Gradient Boost</th>\n",
       "      <th>Voting Model</th>\n",
       "    </tr>\n",
       "  </thead>\n",
       "  <tbody>\n",
       "    <tr>\n",
       "      <th>Log Loss</th>\n",
       "      <td>0.605</td>\n",
       "      <td>0.601</td>\n",
       "      <td>0.602</td>\n",
       "      <td>0.603</td>\n",
       "      <td>0.605</td>\n",
       "    </tr>\n",
       "    <tr>\n",
       "      <th>Accuracy</th>\n",
       "      <td>0.675</td>\n",
       "      <td>0.675</td>\n",
       "      <td>0.675</td>\n",
       "      <td>0.675</td>\n",
       "      <td>0.675</td>\n",
       "    </tr>\n",
       "    <tr>\n",
       "      <th>No.of True positive</th>\n",
       "      <td>835.000</td>\n",
       "      <td>835.000</td>\n",
       "      <td>835.000</td>\n",
       "      <td>815.000</td>\n",
       "      <td>810.000</td>\n",
       "    </tr>\n",
       "    <tr>\n",
       "      <th>No.of false positive</th>\n",
       "      <td>413.000</td>\n",
       "      <td>413.000</td>\n",
       "      <td>413.000</td>\n",
       "      <td>400.000</td>\n",
       "      <td>463.000</td>\n",
       "    </tr>\n",
       "    <tr>\n",
       "      <th>No.of false negative</th>\n",
       "      <td>438.000</td>\n",
       "      <td>438.000</td>\n",
       "      <td>438.000</td>\n",
       "      <td>438.000</td>\n",
       "      <td>435.000</td>\n",
       "    </tr>\n",
       "    <tr>\n",
       "      <th>No.of True Nagative</th>\n",
       "      <td>929.000</td>\n",
       "      <td>929.000</td>\n",
       "      <td>929.000</td>\n",
       "      <td>926.000</td>\n",
       "      <td>929.000</td>\n",
       "    </tr>\n",
       "  </tbody>\n",
       "</table>\n",
       "</div>"
      ],
      "text/plain": [
       "                      Logistic Regression      SVM  Random Forest  \\\n",
       "Log Loss                            0.605    0.601          0.602   \n",
       "Accuracy                            0.675    0.675          0.675   \n",
       "No.of True positive               835.000  835.000        835.000   \n",
       "No.of false positive              413.000  413.000        413.000   \n",
       "No.of false negative              438.000  438.000        438.000   \n",
       "No.of True Nagative               929.000  929.000        929.000   \n",
       "\n",
       "                      Gradient Boost  Voting Model  \n",
       "Log Loss                       0.603         0.605  \n",
       "Accuracy                       0.675         0.675  \n",
       "No.of True positive          815.000       810.000  \n",
       "No.of false positive         400.000       463.000  \n",
       "No.of false negative         438.000       435.000  \n",
       "No.of True Nagative          926.000       929.000  "
      ]
     },
     "execution_count": 10,
     "metadata": {},
     "output_type": "execute_result"
    }
   ],
   "source": [
    "# Import pandas library\n",
    "import pandas as pd\n",
    "# initialise data of lists. \n",
    "data = {'Logistic Regression':[0.605, 0.675, 835, 413,438,929], 'SVM':[0.601, 0.675, 835, 413,438,929],'Random Forest':[0.602, 0.675, 835, 413,438,929],\n",
    "       'Gradient Boost':[0.603, 0.675, 815, 400,438,926],'Voting Model':[0.605, 0.675, 810, 463,435,929]} \n",
    "\n",
    "# Creates pandas DataFrame. \n",
    "df = pd.DataFrame(data, index =['Log Loss', 'Accuracy', 'No.of True positive', 'No.of false positive','No.of false negative','No.of True Nagative']) \n",
    "# print dataframe. \n",
    "df \n"
   ]
  },
  {
   "cell_type": "code",
   "execution_count": 13,
   "metadata": {},
   "outputs": [
    {
     "data": {
      "text/plain": [
       "<matplotlib.axes._subplots.AxesSubplot at 0x7f112015bac8>"
      ]
     },
     "execution_count": 13,
     "metadata": {},
     "output_type": "execute_result"
    },
    {
     "data": {
      "image/png": "[encoded data removed]",
      "text/plain": [
       "<Figure size 432x288 with 1 Axes>"
      ]
     },
     "metadata": {
      "needs_background": "light"
     },
     "output_type": "display_data"
    }
   ],
   "source": [
    "import seaborn as sns\n",
    "import pandas as pd\n",
    "\n",
    "\n",
    "sns.residplot(df['Random Forest'] ,df['SVM'])"
   ]
  },
  {
   "cell_type": "code",
   "execution_count": null,
   "metadata": {},
   "outputs": [],
   "source": []
  }
 ],
 "metadata": {
  "kernelspec": {
   "display_name": "Python 3.6",
   "language": "python",
   "name": "python3"
  },
  "language_info": {
   "codemirror_mode": {
    "name": "ipython",
    "version": 3
   },
   "file_extension": ".py",
   "mimetype": "text/x-python",
   "name": "python",
   "nbconvert_exporter": "python",
   "pygments_lexer": "ipython3",
   "version": "3.6.9"
  }
 },
 "nbformat": 4,
 "nbformat_minor": 1
}
